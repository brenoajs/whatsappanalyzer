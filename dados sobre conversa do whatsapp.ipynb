{
 "cells": [
  {
   "cell_type": "code",
   "execution_count": 4,
   "metadata": {},
   "outputs": [],
   "source": [
    "from whatstk import WhatsAppChat\n",
    "import pandas as pd\n",
    "import matplotlib.pyplot as plt\n",
    "\n",
    "# Caminho para o arquivo de chat\n",
    "filepath = r\"C:\\Users\\breno\\whatsappanalyzer\\_chat 8.txt\"\n",
    "\n",
    "# Especificando o formato do cabeçalho\n",
    "hformat = '[%d/%m/%y, %H:%M:%S] %name:'\n",
    "\n",
    "# Função para carregar e filtrar o DataFrame por período de tempo\n",
    "def carregar_e_filtrar_chat(filepath, hformat, inicio=None, fim=None):\n",
    "    chat = WhatsAppChat.from_source(filepath=filepath, hformat=hformat)\n",
    "    df = chat.df\n",
    "    \n",
    "    if inicio:\n",
    "        df = df[df['date'] >= pd.to_datetime(inicio)]\n",
    "    if fim:\n",
    "        df = df[df['date'] <= pd.to_datetime(fim)]\n",
    "    \n",
    "    return df\n"
   ]
  },
  {
   "cell_type": "code",
   "execution_count": null,
   "id": "c3a09f5b",
   "metadata": {},
   "outputs": [],
   "source": [
    "# Define o período de tempo desejado\n",
    "inicio = '2024-01-01'\n",
    "fim = '2025-01-01'\n",
    "\n",
    "try:\n",
    "    # Carregar e filtrar o chat\n",
    "    df = carregar_e_filtrar_chat(filepath, hformat, inicio, fim)\n",
    "    \n",
    "    # Agrupando por 'username', contando as mensagens e ordenando por ordem decrescente de contagem\n",
    "    sorted_df = df.groupby('username')['message'].count().sort_values(ascending=False)\n",
    "    \n",
    "    print(f\"\\nContagem de mensagens enviada por cada membro no período de {inicio} a {fim}:\")\n",
    "    print(sorted_df)\n",
    "    \n",
    "except KeyError as e:\n",
    "    print(\"Erro de chave:\", e)\n",
    "except RuntimeError as e:\n",
    "    print(\"Erro de execução:\", e)\n",
    "except Exception as e:\n",
    "    print(\"Outro erro ocorreu:\", e)"
   ]
  },
  {
   "cell_type": "code",
   "execution_count": 11,
   "id": "1a423318",
   "metadata": {},
   "outputs": [
    {
     "name": "stdout",
     "output_type": "stream",
     "text": [
      "Arquivo CSV exportado com sucesso.\n"
     ]
    }
   ],
   "source": [
    "# Função para exportar o DataFrame filtrado para um arquivo CSV\n",
    "def exportar_para_csv(df, caminho_csv):\n",
    "    df.to_csv(caminho_csv, index=False)\n",
    "\n",
    "try:\n",
    "    # Carregar e filtrar o chat\n",
    "    df = carregar_e_filtrar_chat(filepath, hformat, inicio, fim)\n",
    "    # Exportar o DataFrame filtrado para um arquivo CSV\n",
    "    exportar_para_csv(df, 'chat_filtrado.csv')\n",
    "    print(\"Arquivo CSV exportado com sucesso.\")\n",
    "except Exception as e:\n",
    "    print(\"An error occurred:\", e)"
   ]
  },
  {
   "cell_type": "code",
   "execution_count": null,
   "id": "f8e31b35-462e-4282-b361-70b63bebcf36",
   "metadata": {},
   "outputs": [],
   "source": [
    "# Cria uma análise de quem mais falou, quebrado por mês.\n",
    "\n",
    "# Certifique-se de que a coluna de data está no formato datetime\n",
    "df['date'] = pd.to_datetime(df['date'], format='%Y-%m-%d %H:%M:%S')\n",
    "\n",
    "# Criar uma nova coluna para o ano e o mês\n",
    "df['year_month'] = df['date'].dt.to_period('M')\n",
    "# Agrupar pelo nome do usuário e pelo mês e contar as mensagens\n",
    "message_counts_by_month = df.groupby(['username', 'year_month']).size().reset_index(name='message_count')\n",
    "\n",
    "# Ordenar o resultado por nome do usuário e data\n",
    "message_counts_by_month = message_counts_by_month.sort_values(by=['username', 'year_month'])\n",
    "\n",
    "print(message_counts_by_month)"
   ]
  },
  {
   "cell_type": "code",
   "execution_count": 17,
   "id": "7632e8e3-1af5-4f2b-a6a8-910c3c3e12d7",
   "metadata": {},
   "outputs": [],
   "source": [
    "#download de quem mais fala, por mês.\n",
    "caminho_arquivo = '/Users/brenojaruzo/Downloads/message_counts_by_month2.csv'\n",
    "message_counts_by_month.to_csv(caminho_arquivo, index=False)"
   ]
  },
  {
   "cell_type": "code",
   "execution_count": null,
   "id": "a01cc978-d988-4b3b-8f31-4b651edc861e",
   "metadata": {},
   "outputs": [],
   "source": [
    "from whatstk import FigureBuilder\n",
    "from plotly.offline import plot\n",
    "fb = FigureBuilder(df=df)\n",
    "fig = fb.user_interventions_count_linechart(cumulative=True, msg_length=True, title='Count of sent characters (cumulative)')\n",
    "plot(fig)"
   ]
  },
  {
   "cell_type": "code",
   "execution_count": null,
   "id": "902ce510-5738-44a9-b7fe-b700e8f3878e",
   "metadata": {},
   "outputs": [],
   "source": [
    "# Agrupar as mensagens por usuário e calcular a contagem total de caracteres em cada grupo\n",
    "contagem_caracteres_por_usuario = df.groupby('username')['message'].apply(lambda x: x.str.len().sum()).reset_index()\n",
    "\n",
    "# Renomear as colunas\n",
    "contagem_caracteres_por_usuario.columns = ['Usuário', 'Contagem de Caracteres']\n",
    "\n",
    "# Ordenar a tabela pela contagem de caracteres em ordem decrescente\n",
    "contagem_caracteres_por_usuario = contagem_caracteres_por_usuario.sort_values(by='Contagem de Caracteres', ascending=False)\n",
    "\n",
    "# Resetar o índice\n",
    "contagem_caracteres_por_usuario = contagem_caracteres_por_usuario.reset_index(drop=True)\n",
    "\n",
    "# Exibir a tabela\n",
    "print(contagem_caracteres_por_usuario)"
   ]
  },
  {
   "cell_type": "code",
   "execution_count": null,
   "id": "cc8a8af6-112c-477b-bd8d-fcab1472823b",
   "metadata": {},
   "outputs": [],
   "source": [
    "#boxplot com o tamanho médio das mensagens enviadas\n",
    "\n",
    "fig = fb.user_msg_length_boxplot()\n",
    "plot(fig)"
   ]
  },
  {
   "cell_type": "code",
   "execution_count": null,
   "id": "d77e7ccd-db95-4bfc-8d51-e253a2f4f5dd",
   "metadata": {},
   "outputs": [],
   "source": [
    "#interação entre os usuários, enviando respostas após o outro\n",
    "\n",
    "fig = fb.user_message_responses_heatmap()\n",
    "plot(fig)"
   ]
  },
  {
   "cell_type": "code",
   "execution_count": null,
   "id": "ba9f16b7",
   "metadata": {},
   "outputs": [],
   "source": [
    "# Extrair a hora de cada mensagem para gerar o gráfico de atividade por hora\n",
    "df['hour'] = df['date'].dt.hour\n",
    "\n",
    "# Contar o número de mensagens por hora\n",
    "activity_by_hour = df['hour'].value_counts().sort_index()\n",
    "\n",
    "# Plotar o gráfico de atividade por hora\n",
    "plt.figure(figsize=(10, 6))\n",
    "activity_by_hour.plot(kind='bar', color='skyblue')\n",
    "plt.title('Atividade no Grupo por Hora do Dia')\n",
    "plt.xlabel('Hora do Dia')\n",
    "plt.ylabel('Número de Mensagens')\n",
    "plt.xticks(rotation=0)\n",
    "plt.grid(axis='y', linestyle='--', alpha=0.7)\n",
    "plt.show()\n",
    "\n",
    "# Análise de atividade por hora e por usuário\n",
    "activity_by_user_hour = df.groupby(['username', 'hour']).size().unstack(fill_value=0)\n",
    "\n",
    "# Plotar o gráfico de atividade por hora para cada usuário\n",
    "plt.figure(figsize=(14, 8))\n",
    "activity_by_user_hour.T.plot(kind='bar', stacked=True, figsize=(14, 8), colormap='viridis')\n",
    "plt.title('Atividade por Hora do Dia para Cada Usuário')\n",
    "plt.xlabel('Hora do Dia')\n",
    "plt.ylabel('Número de Mensagens')\n",
    "plt.xticks(rotation=0)\n",
    "plt.legend(title='Usuário', bbox_to_anchor=(1.05, 1), loc='upper left')\n",
    "plt.grid(axis='y', linestyle='--', alpha=0.7)\n",
    "plt.tight_layout()\n",
    "plt.show()\n",
    "\n",
    "# Exportar a análise de atividade por hora para um arquivo CSV\n",
    "#activity_by_user_hour.to_csv('/Users/brenojaruzo/Downloads/activity_by_user_hour.csv')"
   ]
  },
  {
   "cell_type": "code",
   "execution_count": null,
   "id": "9e4d6a16",
   "metadata": {},
   "outputs": [],
   "source": [
    "# Extraindo o dia da semana\n",
    "df['weekday'] = df['date'].dt.day_name()\n",
    "\n",
    "# Contagem de mensagens por dia da semana\n",
    "weekday_counts = df['weekday'].value_counts()\n",
    "\n",
    "# Ordenar os dias da semana na ordem correta\n",
    "days_order = ['Monday', 'Tuesday', 'Wednesday', 'Thursday', 'Friday', 'Saturday', 'Sunday']\n",
    "weekday_counts = weekday_counts.reindex(days_order)\n",
    "\n",
    "# Plotar o gráfico\n",
    "plt.figure(figsize=(10, 5))\n",
    "weekday_counts.plot(kind='bar', color='skyblue', edgecolor='black')\n",
    "plt.title('Distribuição de Mensagens por Dia da Semana', fontsize=16)\n",
    "plt.xlabel('Dia da Semana', fontsize=12)\n",
    "plt.ylabel('Número de Mensagens', fontsize=12)\n",
    "plt.xticks(rotation=45)\n",
    "plt.grid(axis='y', linestyle='--', alpha=0.7)\n",
    "plt.show()\n"
   ]
  }
 ],
 "metadata": {
  "kernelspec": {
   "display_name": "Python 3",
   "language": "python",
   "name": "python3"
  },
  "language_info": {
   "codemirror_mode": {
    "name": "ipython",
    "version": 3
   },
   "file_extension": ".py",
   "mimetype": "text/x-python",
   "name": "python",
   "nbconvert_exporter": "python",
   "pygments_lexer": "ipython3",
   "version": "3.12.5"
  }
 },
 "nbformat": 4,
 "nbformat_minor": 5
}
