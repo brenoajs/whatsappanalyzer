{
 "cells": [
  {
   "cell_type": "code",
   "execution_count": 2,
   "id": "34b24113-1ba7-4a9d-800e-7608dd5422b1",
   "metadata": {},
   "outputs": [
    {
     "name": "stdout",
     "output_type": "stream",
     "text": [
      "\n",
      "Contagem de mensagens por usuário no período filtrado:\n",
      "username\n",
      "Pedro Almeida       326\n",
      "Thiago Rodrigues    285\n",
      "Victor Ghisi        140\n",
      "Arthur Miranda      124\n",
      "~ Bruno Longhi      121\n",
      "Igor Castelo         93\n",
      "Leonardo Carrera     81\n",
      "Matheus Ribeiro      69\n",
      "~ Victor             49\n",
      "~ John Jader         39\n",
      "Julio Adeodato       16\n",
      "Breno j.              9\n",
      "~ Caio Couto          3\n",
      "~ Rafa Ribeiro        1\n",
      "Name: message, dtype: int64\n"
     ]
    }
   ],
   "source": [
    "from whatstk import WhatsAppChat\n",
    "import pandas as pd\n",
    "\n",
    "# Caminho para o arquivo de chat\n",
    "filepath = '/Users/brenojaruzo/Downloads/_chat 6.txt'\n",
    "\n",
    "# Especificando o formato do cabeçalho\n",
    "hformat = '[%d/%m/%y, %H:%M:%S] %name:'\n",
    "\n",
    "# Função para carregar e filtrar o DataFrame por período de tempo\n",
    "def carregar_e_filtrar_chat(filepath, hformat, inicio=None, fim=None):\n",
    "    chat = WhatsAppChat.from_source(filepath=filepath, hformat=hformat)\n",
    "    df = chat.df\n",
    "    \n",
    "    if inicio:\n",
    "        df = df[df['date'] >= pd.to_datetime(inicio)]\n",
    "    if fim:\n",
    "        df = df[df['date'] <= pd.to_datetime(fim)]\n",
    "    \n",
    "    return df\n",
    "\n",
    "# Define o período de tempo desejado\n",
    "inicio = '2024-06-18'\n",
    "fim = '2024-06-19'\n",
    "\n",
    "try:\n",
    "    # Carregar e filtrar o chat\n",
    "    df = carregar_e_filtrar_chat(filepath, hformat, inicio, fim)\n",
    "    \n",
    "    # Agrupando por 'username', contando as mensagens e ordenando por ordem decrescente de contagem\n",
    "    sorted_df = df.groupby('username')['message'].count().sort_values(ascending=False)\n",
    "    \n",
    "    print(\"\\nContagem de mensagens por usuário no período filtrado:\")\n",
    "    print(sorted_df)\n",
    "    \n",
    "except KeyError as e:\n",
    "    print(\"Erro de chave:\", e)\n",
    "except RuntimeError as e:\n",
    "    print(\"Erro de execução:\", e)\n",
    "except Exception as e:\n",
    "    print(\"Outro erro ocorreu:\", e)"
   ]
  },
  {
   "cell_type": "code",
   "execution_count": 6,
   "id": "f8e31b35-462e-4282-b361-70b63bebcf36",
   "metadata": {},
   "outputs": [
    {
     "ename": "NameError",
     "evalue": "name 'chat' is not defined",
     "output_type": "error",
     "traceback": [
      "\u001b[0;31m---------------------------------------------------------------------------\u001b[0m",
      "\u001b[0;31mNameError\u001b[0m                                 Traceback (most recent call last)",
      "Cell \u001b[0;32mIn[6], line 4\u001b[0m\n\u001b[1;32m      1\u001b[0m \u001b[38;5;66;03m# Cria uma análise de quem mais falou, quebrado por mês.\u001b[39;00m\n\u001b[1;32m      2\u001b[0m \n\u001b[1;32m      3\u001b[0m \u001b[38;5;66;03m# Certifique-se de que a coluna de data está no formato datetime\u001b[39;00m\n\u001b[0;32m----> 4\u001b[0m chat\u001b[38;5;241m.\u001b[39mdf[\u001b[38;5;124m'\u001b[39m\u001b[38;5;124mdate\u001b[39m\u001b[38;5;124m'\u001b[39m] \u001b[38;5;241m=\u001b[39m pd\u001b[38;5;241m.\u001b[39mto_datetime(chat\u001b[38;5;241m.\u001b[39mdf[\u001b[38;5;124m'\u001b[39m\u001b[38;5;124mdate\u001b[39m\u001b[38;5;124m'\u001b[39m], \u001b[38;5;28mformat\u001b[39m\u001b[38;5;241m=\u001b[39m\u001b[38;5;124m'\u001b[39m\u001b[38;5;132;01m%d\u001b[39;00m\u001b[38;5;124m/\u001b[39m\u001b[38;5;124m%\u001b[39m\u001b[38;5;124mm/\u001b[39m\u001b[38;5;124m%\u001b[39m\u001b[38;5;124my, \u001b[39m\u001b[38;5;124m%\u001b[39m\u001b[38;5;124mH:\u001b[39m\u001b[38;5;124m%\u001b[39m\u001b[38;5;124mM:\u001b[39m\u001b[38;5;124m%\u001b[39m\u001b[38;5;124mS\u001b[39m\u001b[38;5;124m'\u001b[39m)\n\u001b[1;32m      6\u001b[0m \u001b[38;5;66;03m# Criar uma nova coluna para o ano e o mês\u001b[39;00m\n\u001b[1;32m      7\u001b[0m chat\u001b[38;5;241m.\u001b[39mdf[\u001b[38;5;124m'\u001b[39m\u001b[38;5;124myear_month\u001b[39m\u001b[38;5;124m'\u001b[39m] \u001b[38;5;241m=\u001b[39m chat\u001b[38;5;241m.\u001b[39mdf[\u001b[38;5;124m'\u001b[39m\u001b[38;5;124mdate\u001b[39m\u001b[38;5;124m'\u001b[39m]\u001b[38;5;241m.\u001b[39mdt\u001b[38;5;241m.\u001b[39mto_period(\u001b[38;5;124m'\u001b[39m\u001b[38;5;124mM\u001b[39m\u001b[38;5;124m'\u001b[39m)\n",
      "\u001b[0;31mNameError\u001b[0m: name 'chat' is not defined"
     ]
    }
   ],
   "source": [
    "# Cria uma análise de quem mais falou, quebrado por mês.\n",
    "\n",
    "# Certifique-se de que a coluna de data está no formato datetime\n",
    "chat.df['date'] = pd.to_datetime(chat.df['date'], format='%d/%m/%y, %H:%M:%S')\n",
    "\n",
    "# Criar uma nova coluna para o ano e o mês\n",
    "chat.df['year_month'] = chat.df['date'].dt.to_period('M')\n",
    "\n",
    "# Agrupar pelo nome do usuário e pelo mês e contar as mensagens\n",
    "message_counts_by_month = chat.df.groupby(['username', 'year_month']).size().reset_index(name='message_count')\n",
    "\n",
    "# Ordenar o resultado por nome do usuário e data\n",
    "message_counts_by_month = message_counts_by_month.sort_values(by=['username', 'year_month'])\n",
    "\n",
    "print(message_counts_by_month)"
   ]
  },
  {
   "cell_type": "code",
   "execution_count": 17,
   "id": "7632e8e3-1af5-4f2b-a6a8-910c3c3e12d7",
   "metadata": {},
   "outputs": [],
   "source": [
    "#download de quem mais fala, por mês.\n",
    "caminho_arquivo = '/Users/brenojaruzo/Downloads/message_counts_by_month2.csv'\n",
    "message_counts_by_month.to_csv(caminho_arquivo, index=False)"
   ]
  },
  {
   "cell_type": "code",
   "execution_count": 27,
   "id": "a01cc978-d988-4b3b-8f31-4b651edc861e",
   "metadata": {},
   "outputs": [
    {
     "data": {
      "text/plain": [
       "'temp-plot.html'"
      ]
     },
     "execution_count": 27,
     "metadata": {},
     "output_type": "execute_result"
    }
   ],
   "source": [
    "from whatstk import FigureBuilder\n",
    "from plotly.offline import plot\n",
    "fb = FigureBuilder(chat=chat)\n",
    "fig = fb.user_interventions_count_linechart(cumulative=True, msg_length=True, title='Count of sent characters (cumulative)')\n",
    "plot(fig)"
   ]
  },
  {
   "cell_type": "code",
   "execution_count": 29,
   "id": "902ce510-5738-44a9-b7fe-b700e8f3878e",
   "metadata": {},
   "outputs": [
    {
     "name": "stdout",
     "output_type": "stream",
     "text": [
      "             Usuário  Contagem de Caracteres\n",
      "0   Thiago Rodrigues                 1397251\n",
      "1      Pedro Almeida                 1278193\n",
      "2       Victor Ghisi                 1201476\n",
      "3       Igor Castelo                  902795\n",
      "4     ~ Bruno Longhi                  723752\n",
      "5   Leonardo Carrera                  491674\n",
      "6     Arthur Miranda                  403371\n",
      "7           Breno j.                  390479\n",
      "8    Matheus Ribeiro                  321766\n",
      "9     Julio Adeodato                  223494\n",
      "10          ~ Victor                   94397\n",
      "11      ~ John Jader                   84208\n",
      "12       Victor Katz                   55552\n",
      "13    ~ Rafa Ribeiro                   30337\n",
      "14  ~ Pedro Monteiro                   28161\n",
      "15       Luis Galvao                   22690\n",
      "16      ~ Caio Couto                   14061\n",
      "17   ~ Hugo Spinelli                    5428\n",
      "18      Victor Alves                    1499\n"
     ]
    }
   ],
   "source": [
    "# Agrupar as mensagens por usuário e calcular a contagem total de caracteres em cada grupo\n",
    "contagem_caracteres_por_usuario = chat.df.groupby('username')['message'].apply(lambda x: x.str.len().sum()).reset_index()\n",
    "\n",
    "# Renomear as colunas\n",
    "contagem_caracteres_por_usuario.columns = ['Usuário', 'Contagem de Caracteres']\n",
    "\n",
    "# Ordenar a tabela pela contagem de caracteres em ordem decrescente\n",
    "contagem_caracteres_por_usuario = contagem_caracteres_por_usuario.sort_values(by='Contagem de Caracteres', ascending=False)\n",
    "\n",
    "# Resetar o índice\n",
    "contagem_caracteres_por_usuario = contagem_caracteres_por_usuario.reset_index(drop=True)\n",
    "\n",
    "# Exibir a tabela\n",
    "print(contagem_caracteres_por_usuario)"
   ]
  },
  {
   "cell_type": "code",
   "execution_count": 45,
   "id": "cc8a8af6-112c-477b-bd8d-fcab1472823b",
   "metadata": {},
   "outputs": [
    {
     "data": {
      "text/plain": [
       "'temp-plot.html'"
      ]
     },
     "execution_count": 45,
     "metadata": {},
     "output_type": "execute_result"
    }
   ],
   "source": [
    "#boxplot com o tamanho médio das mensagens enviadas\n",
    "\n",
    "fig = fb.user_msg_length_boxplot()\n",
    "plot(fig)"
   ]
  },
  {
   "cell_type": "code",
   "execution_count": 47,
   "id": "d77e7ccd-db95-4bfc-8d51-e253a2f4f5dd",
   "metadata": {},
   "outputs": [
    {
     "data": {
      "text/plain": [
       "'temp-plot.html'"
      ]
     },
     "execution_count": 47,
     "metadata": {},
     "output_type": "execute_result"
    }
   ],
   "source": [
    "#interação entre os usuários, enviando respostas após o outro\n",
    "\n",
    "fig = fb.user_message_responses_heatmap()\n",
    "plot(fig)"
   ]
  }
 ],
 "metadata": {
  "kernelspec": {
   "display_name": "Python 3 (ipykernel)",
   "language": "python",
   "name": "python3"
  },
  "language_info": {
   "codemirror_mode": {
    "name": "ipython",
    "version": 3
   },
   "file_extension": ".py",
   "mimetype": "text/x-python",
   "name": "python",
   "nbconvert_exporter": "python",
   "pygments_lexer": "ipython3",
   "version": "3.11.7"
  }
 },
 "nbformat": 4,
 "nbformat_minor": 5
}
