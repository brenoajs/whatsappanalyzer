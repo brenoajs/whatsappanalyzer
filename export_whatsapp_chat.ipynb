{
 "cells": [
  {
   "cell_type": "code",
   "execution_count": null,
   "id": "68ba873a-6565-4059-b0b8-afffaab2164d",
   "metadata": {},
   "outputs": [],
   "source": [
    "#dados para whatsapp filtrados."
   ]
  },
  {
   "cell_type": "code",
   "execution_count": 6,
   "id": "7cbb40ad-048d-46b2-a7c2-0e6c416a3307",
   "metadata": {},
   "outputs": [],
   "source": [
    "from whatstk import WhatsAppChat\n",
    "import pandas as pd\n",
    "\n",
    "# Caminho para o arquivo de chat\n",
    "filepath = \"chat8.txt\"\n",
    "\n",
    "# Especificando o formato do cabeçalho\n",
    "hformat = '[%d/%m/%y, %H:%M:%S] %name:'\n",
    "\n",
    "# Define o período de tempo desejado\n",
    "inicio = '2024-08-01'\n",
    "fim = '2024-09-06'\n",
    "\n",
    "# Função para carregar e filtrar o DataFrame por período de tempo\n",
    "def carregar_e_filtrar_chat(filepath, hformat, inicio=None, fim=None):\n",
    "    chat = WhatsAppChat.from_source(filepath=filepath, hformat=hformat)\n",
    "    df = chat.df\n",
    "    \n",
    "    if inicio:\n",
    "        df = df[df['date'] >= pd.to_datetime(inicio)]\n",
    "    if fim:\n",
    "        df = df[df['date'] <= pd.to_datetime(fim)]\n",
    "    \n",
    "    return df"
   ]
  },
  {
   "cell_type": "code",
   "execution_count": 8,
   "id": "feb43994-f495-4389-b561-1382d9e85572",
   "metadata": {},
   "outputs": [
    {
     "name": "stdout",
     "output_type": "stream",
     "text": [
      "Arquivo CSV exportado com sucesso.\n"
     ]
    }
   ],
   "source": [
    "# Função para exportar o DataFrame filtrado para um arquivo CSV\n",
    "def exportar_para_csv(df, caminho_csv):\n",
    "    df.to_csv(caminho_csv, index=False)\n",
    "\n",
    "try:\n",
    "    # Carregar e filtrar o chat\n",
    "    df = carregar_e_filtrar_chat(filepath, hformat, inicio, fim)\n",
    "    # Exportar o DataFrame filtrado para um arquivo CSV\n",
    "    exportar_para_csv(df, 'chat_filtrado.csv')\n",
    "    print(\"Arquivo CSV exportado com sucesso.\")\n",
    "except Exception as e:\n",
    "    print(\"An error occurred:\", e)"
   ]
  },
  {
   "cell_type": "code",
   "execution_count": null,
   "id": "59009d41-a932-4a29-8ad0-dfe0d8887de3",
   "metadata": {},
   "outputs": [],
   "source": []
  },
  {
   "cell_type": "code",
   "execution_count": 10,
   "id": "92e4e347-7d2d-4357-912d-ecfe144dbf40",
   "metadata": {},
   "outputs": [
    {
     "name": "stdout",
     "output_type": "stream",
     "text": [
      "Arquivo TXT exportado com sucesso.\n"
     ]
    }
   ],
   "source": [
    "# Função para exportar o DataFrame filtrado para um arquivo de texto\n",
    "def exportar_para_txt(df, caminho_txt):\n",
    "    with open(caminho_txt, 'w', encoding='utf-8') as file:\n",
    "        file.write(df.to_string(index=False))\n",
    "\n",
    "try:\n",
    "    # Carregar e filtrar o chat\n",
    "    df = carregar_e_filtrar_chat(filepath, hformat, inicio, fim)\n",
    "    # Exportar o DataFrame filtrado para um arquivo de texto\n",
    "    exportar_para_txt(df, 'chat_filtrado.txt')\n",
    "    print(\"Arquivo TXT exportado com sucesso.\")\n",
    "except Exception as e:\n",
    "    print(\"An error occurred:\", e)"
   ]
  },
  {
   "cell_type": "code",
   "execution_count": 13,
   "id": "a6a87ad8-6ff3-4365-8e55-f2f1de9457ba",
   "metadata": {},
   "outputs": [
    {
     "ename": "NameError",
     "evalue": "name 'chat' is not defined",
     "output_type": "error",
     "traceback": [
      "\u001b[0;31m---------------------------------------------------------------------------\u001b[0m",
      "\u001b[0;31mNameError\u001b[0m                                 Traceback (most recent call last)",
      "Cell \u001b[0;32mIn[13], line 2\u001b[0m\n\u001b[1;32m      1\u001b[0m \u001b[38;5;66;03m# Agrupar as mensagens por usuário e calcular a contagem total de caracteres em cada grupo\u001b[39;00m\n\u001b[0;32m----> 2\u001b[0m contagem_caracteres_por_usuario \u001b[38;5;241m=\u001b[39m chat\u001b[38;5;241m.\u001b[39mdf\u001b[38;5;241m.\u001b[39mgroupby(\u001b[38;5;124m'\u001b[39m\u001b[38;5;124musername\u001b[39m\u001b[38;5;124m'\u001b[39m)[\u001b[38;5;124m'\u001b[39m\u001b[38;5;124mmessage\u001b[39m\u001b[38;5;124m'\u001b[39m]\u001b[38;5;241m.\u001b[39mapply(\u001b[38;5;28;01mlambda\u001b[39;00m x: x\u001b[38;5;241m.\u001b[39mstr\u001b[38;5;241m.\u001b[39mlen()\u001b[38;5;241m.\u001b[39msum())\u001b[38;5;241m.\u001b[39mreset_index()\n\u001b[1;32m      4\u001b[0m \u001b[38;5;66;03m# Renomear as colunas\u001b[39;00m\n\u001b[1;32m      5\u001b[0m contagem_caracteres_por_usuario\u001b[38;5;241m.\u001b[39mcolumns \u001b[38;5;241m=\u001b[39m [\u001b[38;5;124m'\u001b[39m\u001b[38;5;124mUsuário\u001b[39m\u001b[38;5;124m'\u001b[39m, \u001b[38;5;124m'\u001b[39m\u001b[38;5;124mContagem de Caracteres\u001b[39m\u001b[38;5;124m'\u001b[39m]\n",
      "\u001b[0;31mNameError\u001b[0m: name 'chat' is not defined"
     ]
    }
   ],
   "source": []
  }
 ],
 "metadata": {
  "kernelspec": {
   "display_name": "Python 3 (ipykernel)",
   "language": "python",
   "name": "python3"
  },
  "language_info": {
   "codemirror_mode": {
    "name": "ipython",
    "version": 3
   },
   "file_extension": ".py",
   "mimetype": "text/x-python",
   "name": "python",
   "nbconvert_exporter": "python",
   "pygments_lexer": "ipython3",
   "version": "3.11.7"
  }
 },
 "nbformat": 4,
 "nbformat_minor": 5
}
